{
 "cells": [
  {
   "cell_type": "markdown",
   "metadata": {
    "slideshow": {
     "slide_type": "slide"
    }
   },
   "source": [
    "# Class 6: Gravitational Radiation\n",
    "\n",
    "Special relativity imposes an Hyperbolic spacetime. This is also true in most scenaries in GR as well.\n",
    "\n",
    "The metric that describes the space time obeys Einstein equation and is a second order differential equation with a single parameter: $c$"
   ]
  },
  {
   "cell_type": "code",
   "execution_count": 2,
   "metadata": {
    "collapsed": false,
    "slideshow": {
     "slide_type": "fragment"
    }
   },
   "outputs": [
    {
     "name": "stdout",
     "output_type": "stream",
     "text": [
      "  Name   = Speed of light in vacuum\n",
      "  Value  = 299792458.0\n",
      "  Uncertainty  = 0.0\n",
      "  Unit  = m / s\n",
      "  Reference = CODATA 2010\n"
     ]
    }
   ],
   "source": [
    "from astropy import units as u\n",
    "from astropy import constants as k\n",
    "print k.c"
   ]
  },
  {
   "cell_type": "markdown",
   "metadata": {
    "slideshow": {
     "slide_type": "fragment"
    }
   },
   "source": [
    "* The changes in spacetime geometry would propagate in the very same light cones that the theory imposes (causal 4-dimensional hyperbolic metric). "
   ]
  },
  {
   "cell_type": "markdown",
   "metadata": {
    "slideshow": {
     "slide_type": "fragment"
    }
   },
   "source": [
    "* The perturbations in the metric obey a wave equation, and this is independent of foliation of spacetime in spacelike hypersurfaces."
   ]
  },
  {
   "cell_type": "markdown",
   "metadata": {
    "slideshow": {
     "slide_type": "fragment"
    }
   },
   "source": [
    "* This feature of GR is completely new, and is not something already present (like Newtonian potential-kinetic energy exchange in the $T^{\\mu \\nu}$"
   ]
  },
  {
   "cell_type": "markdown",
   "metadata": {
    "slideshow": {
     "slide_type": "subslide"
    }
   },
   "source": [
    "Gravitational radiation is propagated as a 2-spin wave, with specular symmetry on the propagation plane.\n",
    "\n",
    "This means that the lowest order mass moment capable of producing GW is the queadrupole."
   ]
  },
  {
   "cell_type": "markdown",
   "metadata": {
    "slideshow": {
     "slide_type": "fragment"
    }
   },
   "source": [
    "The quadrupole formula for GW has been confirmed indirectly for Hulse-Taylor binary neutron Star system.\n",
    "\n",
    "<img src='./images/PSRs_1913%2B16_decay.jpg' width=480 >"
   ]
  },
  {
   "cell_type": "markdown",
   "metadata": {
    "slideshow": {
     "slide_type": "fragment"
    }
   },
   "source": [
    "The reported time-rate change is  $ \\tau = -1.1 \\times 10^{-12} s^{-1} $ in the 2.5 hours of orbital period,  where the predicted value is  $ \\tau = -1.24 \\times 10^{-12} s^{-1} $"
   ]
  },
  {
   "cell_type": "markdown",
   "metadata": {
    "slideshow": {
     "slide_type": "slide"
    }
   },
   "source": [
    "## Nonlinear wave equations\n",
    "\n"
   ]
  }
 ],
 "metadata": {
  "celltoolbar": "Slideshow",
  "kernelspec": {
   "display_name": "Python 2",
   "language": "python",
   "name": "python2"
  },
  "language_info": {
   "codemirror_mode": {
    "name": "ipython",
    "version": 2
   },
   "file_extension": ".py",
   "mimetype": "text/x-python",
   "name": "python",
   "nbconvert_exporter": "python",
   "pygments_lexer": "ipython2",
   "version": "2.7.10"
  }
 },
 "nbformat": 4,
 "nbformat_minor": 0
}
