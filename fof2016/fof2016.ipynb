{
 "cells": [
  {
   "cell_type": "markdown",
   "metadata": {
    "slideshow": {
     "slide_type": "slide"
    }
   },
   "source": [
    "# A new Pipeline Approach: CORRAL\n",
    "\n",
    "\n",
    "## The TORITOS Pipeline's Engine"
   ]
  },
  {
   "cell_type": "markdown",
   "metadata": {
    "slideshow": {
     "slide_type": "fragment"
    }
   },
   "source": [
    "### Co-workers: J. B. Cabral, M. Beroiz, TOROS Collaboration"
   ]
  },
  {
   "cell_type": "markdown",
   "metadata": {
    "slideshow": {
     "slide_type": "slide"
    }
   },
   "source": [
    "## What is a pipeline?"
   ]
  },
  {
   "cell_type": "markdown",
   "metadata": {
    "slideshow": {
     "slide_type": "fragment"
    }
   },
   "source": [
    "*A pipeline can be understood in a collection of filters and connectors that consume data to perform a transformation of it on a linear and repetitive fashion.*\n",
    "\n",
    "This data that is consumed can be named as a *stream* and each filter is a transformation. Connectors between the filters are the schema of the pipeline, and it inspires a *always forward* structure."
   ]
  },
  {
   "cell_type": "markdown",
   "metadata": {
    "slideshow": {
     "slide_type": "fragment"
    }
   },
   "source": [
    "<img src='./images/pipeline.png'>"
   ]
  },
  {
   "cell_type": "markdown",
   "metadata": {
    "slideshow": {
     "slide_type": "subslide"
    }
   },
   "source": [
    "## Why do we do this?\n",
    "\n",
    "\n",
    "* We need this for TOROS/TORITOS\n",
    "\n",
    "* Observational astronomers are facing a data *tsunami*, and synoptic surveys are one of the more data intensive tasks today.\n",
    "\n",
    "* Telescopes of any size can produce massive amounts of data. \n",
    "\n",
    "* Processing is time consuming for humans, and most of the tasks involved are likely to fail."
   ]
  },
  {
   "cell_type": "markdown",
   "metadata": {
    "slideshow": {
     "slide_type": "subslide"
    }
   },
   "source": [
    "## The TORITOS Project\n",
    "\n",
    "* The first observation campaign needs.\n",
    "\n",
    "    * A server to host data\n",
    "    * A data record management\n",
    "    * A computing system\n",
    "    * Automatization of every process\n",
    "    * A report system (lack of connectivity)\n",
    "    * Error handling mechanisms"
   ]
  },
  {
   "cell_type": "markdown",
   "metadata": {
    "slideshow": {
     "slide_type": "slide"
    }
   },
   "source": [
    "## CORRAL\n",
    "\n",
    "**Corral is a framework designed to create fully integrated pipelines without tears and headaches.**"
   ]
  },
  {
   "cell_type": "markdown",
   "metadata": {
    "slideshow": {
     "slide_type": "fragment"
    }
   },
   "source": [
    "It makes use of some computational formalisms and tools:\n",
    "   * MVC pattern\n",
    "   * ETL operation routines\n",
    "   * OOP (Python native)\n",
    "   * SQL database fully integrated\n",
    "   * Pipeline branching\n",
    "   * Asynchronus and embarrasing parallel processing"
   ]
  },
  {
   "cell_type": "markdown",
   "metadata": {
    "slideshow": {
     "slide_type": "slide"
    }
   },
   "source": [
    "## Toritos pipeline design\n",
    "\n",
    "The TORITOS pipeline needs three central entities:\n",
    "* The **models**"
   ]
  },
  {
   "cell_type": "markdown",
   "metadata": {
    "slideshow": {
     "slide_type": "fragment"
    }
   },
   "source": [
    "* The **loader** and **steps**"
   ]
  },
  {
   "cell_type": "markdown",
   "metadata": {
    "slideshow": {
     "slide_type": "fragment"
    }
   },
   "source": [
    "* The **alerts**"
   ]
  },
  {
   "cell_type": "code",
   "execution_count": null,
   "metadata": {
    "collapsed": true
   },
   "outputs": [],
   "source": []
  }
 ],
 "metadata": {
  "celltoolbar": "Slideshow",
  "kernelspec": {
   "display_name": "Python 2",
   "language": "python",
   "name": "python2"
  },
  "language_info": {
   "codemirror_mode": {
    "name": "ipython",
    "version": 2
   },
   "file_extension": ".py",
   "mimetype": "text/x-python",
   "name": "python",
   "nbconvert_exporter": "python",
   "pygments_lexer": "ipython2",
   "version": "2.7.3"
  }
 },
 "nbformat": 4,
 "nbformat_minor": 0
}
