{
 "cells": [
  {
   "cell_type": "markdown",
   "metadata": {
    "slideshow": {
     "slide_type": "slide"
    }
   },
   "source": [
    "# A new Pipeline Approach: CORRAL\n",
    "\n",
    "<center><img src='./images/3.jpg' width=360 Height=240></center>\n",
    "\n",
    "## The TOROS Pipeline's Engine"
   ]
  },
  {
   "cell_type": "markdown",
   "metadata": {
    "slideshow": {
     "slide_type": "fragment"
    }
   },
   "source": [
    "### Co-workers: J. B. Cabral, M. Beroiz, TOROS Collaboration"
   ]
  },
  {
   "cell_type": "markdown",
   "metadata": {
    "slideshow": {
     "slide_type": "slide"
    }
   },
   "source": [
    "## What is a pipeline?"
   ]
  },
  {
   "cell_type": "markdown",
   "metadata": {
    "slideshow": {
     "slide_type": "fragment"
    }
   },
   "source": [
    "*A pipeline can be understood in a collection of filters and connectors that consume data to perform a transformation of it on a linear and repetitive fashion.*\n",
    "\n",
    "This data that is consumed can be named as a *stream* and each filter is a transformation. Connectors between the filters are the schema of the pipeline, and it inspires a *always forward* structure."
   ]
  },
  {
   "cell_type": "markdown",
   "metadata": {
    "slideshow": {
     "slide_type": "fragment"
    }
   },
   "source": [
    "<center><img src='./images/pipeline.png' align='middle'></center>"
   ]
  },
  {
   "cell_type": "markdown",
   "metadata": {
    "slideshow": {
     "slide_type": "notes"
    }
   },
   "source": [
    "####Some Pipelines\n",
    "\n",
    "* SDSS\n",
    "* Pan STARSS"
   ]
  },
  {
   "cell_type": "markdown",
   "metadata": {
    "slideshow": {
     "slide_type": "subslide"
    }
   },
   "source": [
    "## Why do we do this?\n",
    "\n",
    "\n",
    "* We need this for TOROS\n",
    "\n",
    "* Observational astronomers are facing a data *tsunami*, and synoptic surveys are one of the more data intensive tasks today.\n",
    "\n",
    "* Telescopes of any size can produce massive amounts of data, and TOROS needs real-time processing\n",
    "\n",
    "* Processing is time consuming for humans, and most of the tasks involved are likely to fail.\n",
    "\n",
    "* Handling meta-data is key to a Sinoptic Survey "
   ]
  },
  {
   "cell_type": "markdown",
   "metadata": {
    "slideshow": {
     "slide_type": "subslide"
    }
   },
   "source": [
    "## The TORITOS Project\n",
    "\n",
    "* The first observation campaign needs.\n",
    "\n",
    "    * Where to host data\n",
    "    * A data base to record process\n",
    "    * Computational power (real-time analysis)\n",
    "    * Automatization of every process\n",
    "    * A report system (lack of connectivity)\n",
    "    * Error handling mechanisms\n",
    "    \n",
    "<center><img src='./images/toritos_site.png' align='middle'></center>"
   ]
  },
  {
   "cell_type": "markdown",
   "metadata": {
    "slideshow": {
     "slide_type": "slide"
    }
   },
   "source": [
    "## CORRAL\n",
    "<img src='./images/9.jpg' width=120 height=60>\n",
    "\n",
    "**Corral is a framework designed to create fully integrated pipelines without tears and headaches.**\n",
    "\n",
    "Provides a structure where your pipeline metadata can be stored, mined, and analysed."
   ]
  },
  {
   "cell_type": "markdown",
   "metadata": {
    "slideshow": {
     "slide_type": "fragment"
    }
   },
   "source": [
    "\n",
    "It makes use of some computational formalisms and tools:\n",
    "* MVC pattern\n",
    "* ETL operation routines\n",
    "* OOP (Python native)\n",
    "* SQL database fully integrated\n",
    "* Pipeline branching\n",
    "* Asynchronus and embarrasing parallel processing\n"
   ]
  },
  {
   "cell_type": "markdown",
   "metadata": {
    "slideshow": {
     "slide_type": "fragment"
    }
   },
   "source": [
    "** Testing and Code quality measurements integrated.** "
   ]
  },
  {
   "cell_type": "markdown",
   "metadata": {
    "slideshow": {
     "slide_type": "slide"
    }
   },
   "source": [
    "## Toritos pipeline design\n",
    "\n",
    "A main feature of this new Pipeline design approach is ***Model-View-Controller*** pattern.\n",
    "\n",
    "The TORITOS pipeline needs three central entities:\n",
    "\n",
    "* The **Models**"
   ]
  },
  {
   "cell_type": "markdown",
   "metadata": {
    "slideshow": {
     "slide_type": "fragment"
    }
   },
   "source": [
    "* The **Loader** and **Steps**  (as *controllers*)"
   ]
  },
  {
   "cell_type": "markdown",
   "metadata": {
    "slideshow": {
     "slide_type": "fragment"
    }
   },
   "source": [
    "* The **Alerts** (as user *views*)"
   ]
  },
  {
   "cell_type": "markdown",
   "metadata": {
    "collapsed": true,
    "slideshow": {
     "slide_type": "slide"
    }
   },
   "source": [
    "### The models\n",
    "\n",
    "These are the designed data structures that will be interacting with the processing steps, and are the storage of information that the pipeline handles.\n",
    "\n",
    "It is correct to say that are the SQL data tables definitions which the pipeline works with. "
   ]
  },
  {
   "cell_type": "markdown",
   "metadata": {
    "slideshow": {
     "slide_type": "skip"
    }
   },
   "source": [
    "Here I should import corral db to comply with model requirements"
   ]
  },
  {
   "cell_type": "code",
   "execution_count": 5,
   "metadata": {
    "collapsed": false,
    "slideshow": {
     "slide_type": "skip"
    }
   },
   "outputs": [],
   "source": [
    "from sqlalchemy.orm import *\n",
    "from sqlalchemy import *\n",
    "from sqlalchemy.ext import declarative\n",
    "\n",
    "Model = declarative.declarative_base(name=\"Model\")"
   ]
  },
  {
   "cell_type": "code",
   "execution_count": 6,
   "metadata": {
    "collapsed": false,
    "slideshow": {
     "slide_type": "fragment"
    }
   },
   "outputs": [],
   "source": [
    "class Observatory(Model):\n",
    "    \"\"\"Model for observatories. SQLAlchemy Model object.\n",
    "    \"\"\"\n",
    "\n",
    "    __tablename__ = 'Observatory'\n",
    "\n",
    "    id = Column(Integer, primary_key=True)\n",
    "    name = Column(String(100), nullable=False, unique=True)\n",
    "    latitude = Column(Float, nullable=False)\n",
    "    longitude = Column(Float, nullable=False)\n",
    "    description = Column(Text, nullable=True)\n",
    "\n",
    "    def __repr__(self):\n",
    "        return self.name\n"
   ]
  },
  {
   "cell_type": "code",
   "execution_count": 7,
   "metadata": {
    "collapsed": true,
    "slideshow": {
     "slide_type": "subslide"
    }
   },
   "outputs": [],
   "source": [
    "class Campaign(Model):\n",
    "\n",
    "    __tablename__ = 'Campaign'\n",
    "\n",
    "    id = Column(Integer, primary_key=True)\n",
    "    name = Column(String(100), nullable=False, unique=True)\n",
    "    description = Column(Text, nullable=True)\n",
    "\n",
    "    observatory_id = Column(Integer, ForeignKey('Observatory.id'))\n",
    "    observatory = relationship(\n",
    "        \"Observatory\", backref=backref('campaigns', order_by=id))\n",
    "    ccd_id = Column(Integer, ForeignKey('CCD.id'))\n",
    "    ccd = relationship(\n",
    "        \"CCD\", backref=backref('campaigns', order_by=id))\n",
    "\n",
    "    def __repr__(self):\n",
    "        return self.name\n"
   ]
  },
  {
   "cell_type": "markdown",
   "metadata": {
    "slideshow": {
     "slide_type": "subslide"
    }
   },
   "source": [
    "<center><img src='./images/db.png'></center>"
   ]
  },
  {
   "cell_type": "markdown",
   "metadata": {
    "collapsed": true,
    "slideshow": {
     "slide_type": "slide"
    }
   },
   "source": [
    "### The Steps\n",
    "\n",
    "The processing operations performed during each stage of the pipeline are encapsulated in *atomic Steps*, i.e. each one is to be performed completely or failed fatally. \n",
    "\n",
    "They cannot have a mixed outcome, and every time a step process is triggered a database entry is recorded, to help mantain reproducibility of results and error tracking.\n"
   ]
  },
  {
   "cell_type": "markdown",
   "metadata": {
    "slideshow": {
     "slide_type": "fragment"
    }
   },
   "source": [
    "####Loader\n",
    "\n",
    "The Loader is the very first step to be executed and is the only one that is able to input data on the stream of the pipeline. It needs to exist and it can be hosted inside a cronjob or similar task managers."
   ]
  },
  {
   "cell_type": "markdown",
   "metadata": {
    "slideshow": {
     "slide_type": "fragment"
    }
   },
   "source": [
    "####General Steps and branching\n",
    "\n",
    "The general step entity is formalised in **filters** and **connectors**.\n",
    "\n",
    "* Filter: works by Quering the SQL database, extracting data, and transforming it\n",
    "* Connector: works by loading the result of a filter operation into new database records.\n",
    "\n",
    "This can be seen inside a *ETL* closed process"
   ]
  },
  {
   "cell_type": "markdown",
   "metadata": {
    "slideshow": {
     "slide_type": "slide"
    }
   },
   "source": [
    "#### Extract Transform and Load\n",
    "\n",
    "This is a **processing recipe** in which data is queried from a DB, some processing takes place, and after that a new record is registered into a DB (can be the same).\n",
    "\n",
    "<center><img src='./images/ETL-Process.png'></center>"
   ]
  },
  {
   "cell_type": "markdown",
   "metadata": {
    "slideshow": {
     "slide_type": "subslide"
    }
   },
   "source": [
    "#### Branching\n",
    "\n",
    "A line of data stream can be processed in parallel, if there is no concurrence between its partner processes."
   ]
  },
  {
   "cell_type": "markdown",
   "metadata": {
    "slideshow": {
     "slide_type": "fragment"
    }
   },
   "source": [
    "<center><img src='./images/BranchingPipeline.png'></center>"
   ]
  },
  {
   "cell_type": "markdown",
   "metadata": {
    "slideshow": {
     "slide_type": "slide"
    }
   },
   "source": [
    "### The Alerts\n",
    "\n",
    "Whenever a previously defined condition is satisfied, or a preferred state is reached, an *alert* is triggered.\n",
    "\n",
    "CORRAL can communicate these alerts by SMS or e-mail, or even web services (like a Django web app).\n",
    "\n",
    "<center><img src='./images/notifications.png' width=360 height=360></center>\n",
    "\n",
    "Inside CORRAL any alert can be defined, and any channel compatible with Python will communicate the information."
   ]
  },
  {
   "cell_type": "markdown",
   "metadata": {
    "collapsed": true,
    "slideshow": {
     "slide_type": "slide"
    }
   },
   "source": [
    "## Conclusion\n",
    "\n",
    "This Pipeline framework has been applied for TORITOS campaign, and it will be fully deployed in next campaign.\n",
    "\n",
    "* CORRAL is a framework ideal for research, and scientific DB hosting and data mining.\n",
    "* It is able to work under many environment conditions, being really flexible\n",
    "* It is completely written in Python, and TORITOS does not depend on any other language or software.\n",
    "* We can guarantee code quality and reproducibility of results\n",
    "* Provides a parallelization of the chain processes out of the box. "
   ]
  }
 ],
 "metadata": {
  "celltoolbar": "Slideshow",
  "kernelspec": {
   "display_name": "Python 2",
   "language": "python",
   "name": "python2"
  },
  "language_info": {
   "codemirror_mode": {
    "name": "ipython",
    "version": 2
   },
   "file_extension": ".py",
   "mimetype": "text/x-python",
   "name": "python",
   "nbconvert_exporter": "python",
   "pygments_lexer": "ipython2",
   "version": "2.7.3"
  }
 },
 "nbformat": 4,
 "nbformat_minor": 0
}
