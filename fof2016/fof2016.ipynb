{
 "cells": [
  {
   "cell_type": "markdown",
   "metadata": {
    "slideshow": {
     "slide_type": "slide"
    }
   },
   "source": [
    "# A new Pipeline Approach:\n",
    "\n",
    "\n",
    "## TORITOS Pipeline"
   ]
  },
  {
   "cell_type": "markdown",
   "metadata": {
    "slideshow": {
     "slide_type": "fragment"
    }
   },
   "source": [
    "### Co-workers: J. B. Cabral, M. Beroiz, TOROS Collaboration"
   ]
  },
  {
   "cell_type": "markdown",
   "metadata": {
    "slideshow": {
     "slide_type": "slide"
    }
   },
   "source": [
    "## What is a pipeline?"
   ]
  },
  {
   "cell_type": "markdown",
   "metadata": {
    "slideshow": {
     "slide_type": "fragment"
    }
   },
   "source": [
    "*A pipeline can be understood in a collection of filters and connectors that consume data and perform transformation of it on a linear and repetitive fashion.*\n",
    "\n",
    "This data that is consumed can be named as a *stream* and each filter is a transformation. Connectors between the filters are the schema of the pipeline, and it inspires a *always forward* structure."
   ]
  },
  {
   "cell_type": "markdown",
   "metadata": {
    "slideshow": {
     "slide_type": "subslide"
    }
   },
   "source": [
    "## Why do we do this?\n",
    "\n",
    "* Observational astronomers are facing a data *tsunami*, and synoptic surveys are one of the more data intensive tasks today.\n",
    "\n",
    "* Telescopes of any size can produce massive amounts of data. \n",
    "\n",
    "* Processing is time consuming for humans, and most of the tasks involved are likely to fail.\n",
    "\n",
    "* We need this for TOROS/TORITOS"
   ]
  },
  {
   "cell_type": "code",
   "execution_count": null,
   "metadata": {
    "collapsed": true
   },
   "outputs": [],
   "source": []
  }
 ],
 "metadata": {
  "celltoolbar": "Slideshow",
  "kernelspec": {
   "display_name": "Python 2",
   "language": "python",
   "name": "python2"
  },
  "language_info": {
   "codemirror_mode": {
    "name": "ipython",
    "version": 2
   },
   "file_extension": ".py",
   "mimetype": "text/x-python",
   "name": "python",
   "nbconvert_exporter": "python",
   "pygments_lexer": "ipython2",
   "version": "2.7.3"
  }
 },
 "nbformat": 4,
 "nbformat_minor": 0
}
