{
 "cells": [
  {
   "cell_type": "markdown",
   "metadata": {
    "slideshow": {
     "slide_type": "slide"
    }
   },
   "source": [
    "#       Clase 2\n",
    "\n",
    "##       Sgr A\\*  y  curvatura"
   ]
  },
  {
   "cell_type": "markdown",
   "metadata": {
    "slideshow": {
     "slide_type": "subslide"
    }
   },
   "source": [
    "** Teorema de la madurez de la manzana de newton **"
   ]
  },
  {
   "cell_type": "markdown",
   "metadata": {
    "slideshow": {
     "slide_type": "fragment"
    }
   },
   "source": [
    "Newton plantea que los cuerpos materiales sufren aceleración debido a las fuerzas, y que en caso que sean nulas permanecen en reposo.\n",
    "\n",
    "$ \\vec F = \\sum_i \\vec f_i = m \\vec a$\n",
    "\n",
    "$ 0 = \\vec F = \\vec a = \\frac{d \\vec v} {dt}$\n",
    " \n",
    " Con $m$ la masa inercial del móvil."
   ]
  },
  {
   "cell_type": "markdown",
   "metadata": {
    "slideshow": {
     "slide_type": "subslide"
    }
   },
   "source": [
    "Además explica que la gravedad es una fuerza que responde a un potencial -un campo escalar $\\phi$ - que es llamado potencial gravitatorio. Esto entonces muestra que la aceleración gravedad puede calcularse de la ecuación\n",
    "\n",
    "$ \\vec \\nabla \\phi = \\vec f_g = - m \\vec a$\n",
    "\n",
    "Por otro lado para una distribucion de *masa gravitatoria* $\\phi$ cumple con\n",
    "\n",
    "$ \\Delta \\phi = -4 \\pi \\rho $."
   ]
  },
  {
   "cell_type": "markdown",
   "metadata": {
    "slideshow": {
     "slide_type": "subslide"
    }
   },
   "source": [
    "Experimentalmente se mide una concordancia entre los valores de masa gravitatoria e inercial con precisiones elevadas.\n",
    "Es decir que \n",
    "\n",
    "$ \\frac{1}{m_g}\\vec f_g = \\frac{m_i}{m_g} \\vec a = \\vec a$\n",
    "\n",
    "Y de esta forma uno usando que la gravedad es una fuerza conservativa, y el potencial puede definir la energia potencial gravitatoria:\n",
    "\n",
    "$V(x) = \\frac{1}{m_g} \\int_\\infty^x \\vec f  d\\vec x$\n",
    "\n",
    "El cual coincide a menos de una constante con el potencial gravitatorio. Por ultimo se aplican las leyes de conservación de la energía mecánica uno es capaz de asociar este potencial a variaciones de energía cinética."
   ]
  },
  {
   "cell_type": "markdown",
   "metadata": {
    "slideshow": {
     "slide_type": "subslide"
    }
   },
   "source": [
    "Einstein por otro lado plantea una igualdad local entre "
   ]
  }
 ],
 "metadata": {
  "celltoolbar": "Slideshow",
  "kernelspec": {
   "display_name": "Python 2",
   "language": "python",
   "name": "python2"
  },
  "language_info": {
   "codemirror_mode": {
    "name": "ipython",
    "version": 2
   },
   "file_extension": ".py",
   "mimetype": "text/x-python",
   "name": "python",
   "nbconvert_exporter": "python",
   "pygments_lexer": "ipython2",
   "version": "2.7.3"
  }
 },
 "nbformat": 4,
 "nbformat_minor": 0
}
