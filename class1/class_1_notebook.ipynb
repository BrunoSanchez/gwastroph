{
 "metadata": {
  "name": "",
  "signature": "sha256:f9612e5f5fa3e3449ccf9872d4c1a8484d2477b54b257ac6997576789ce22335"
 },
 "nbformat": 3,
 "nbformat_minor": 0,
 "worksheets": [
  {
   "cells": [
    {
     "cell_type": "markdown",
     "metadata": {},
     "source": [
      "# Welcome to class 1"
     ]
    },
    {
     "cell_type": "code",
     "collapsed": false,
     "input": [],
     "language": "python",
     "metadata": {},
     "outputs": []
    }
   ],
   "metadata": {}
  }
 ]
}