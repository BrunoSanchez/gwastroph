{
 "cells": [
  {
   "cell_type": "markdown",
   "metadata": {
    "slideshow": {
     "slide_type": "slide"
    }
   },
   "source": [
    "# Curso raro de GR - GW - Astrofisica\n",
    "\n",
    "Vamos a seguir el libro de *van Putten* de **Gravitational Radiation, Luminous Black Holes and Gamma-Ray Burst Supernovae**\n",
    "\n",
    "\n",
    "La idea es lograr captar una vision general de los eventos de ondas gravitacionales mas luminosos predichos en la teoria de GR.\n",
    "\n",
    "<img src='./images_1/Captura de pantalla de 2016-01-29 12-15-29.png' width=300 height=500>"
   ]
  },
  {
   "cell_type": "markdown",
   "metadata": {
    "slideshow": {
     "slide_type": "subslide"
    }
   },
   "source": [
    "## El formato del curso\n",
    "\n",
    "El curso intentaria seguir un formato de clases semanales, con unas filminas por tema o capitulo, y algunos ejercicios con codigo resueltos.\n",
    "\n",
    "Se pueden incluir:\n",
    "\n",
    "* Codigos numericos\n",
    "* Cuentas de relatividad\n",
    "* Estimaciones cosmologicas usando catalogos y surveys\n"
   ]
  },
  {
   "cell_type": "markdown",
   "metadata": {
    "slideshow": {
     "slide_type": "slide"
    }
   },
   "source": [
    "# Clase 1: Relatividad y movimiento superluminico"
   ]
  },
  {
   "cell_type": "markdown",
   "metadata": {
    "slideshow": {
     "slide_type": "fragment"
    }
   },
   "source": [
    "El primer tema que el libro menciona es relatividad especial, refiriendose principalmente a las transformaciones de lorentz y su rol en las ecuaciones de Maxwell.\n",
    "\n",
    "\n",
    "Los conos de luz es algo que trata primero introduciendo los diagramas de lineas mundo: "
   ]
  },
  {
   "cell_type": "markdown",
   "metadata": {
    "collapsed": false,
    "slideshow": {
     "slide_type": "subslide"
    }
   },
   "source": [
    "<img src='./images_1/world_line.png' width=720 height=1200>"
   ]
  },
  {
   "cell_type": "markdown",
   "metadata": {
    "slideshow": {
     "slide_type": "subslide"
    }
   },
   "source": [
    "Desde ahora en mas la signatura utilizada es \n",
    "\n",
    "$diag(\\eta_ab) = (-+++)$\n",
    "\n",
    "Y los vectores temporales tendran norma negativa y los espaciales positiva. \n",
    "\n",
    "Einstein concluyo que el espacio-tiempo exhibe una estructura causal en forma de un cono de luz, que es invariante, y por lo tanto vale para cada punto en el espacio-tiempo.\n",
    "\n",
    "Cada observador podria ser descripto como una curva temporal (en cada punto de esta curva el vector tangente es temporal, y puede asociarse con un observador material), conectada causalmente con aquellos eventos dentro del cono de luz pasado."
   ]
  },
  {
   "cell_type": "markdown",
   "metadata": {
    "slideshow": {
     "slide_type": "fragment"
    }
   },
   "source": [
    "Einsten propuso que todas las leyes fisicas junto con los observables (las cantidades fisicas) deben ser invariantes ante transformaciones de Lorentz, siendo esta la base de la relatividad especial."
   ]
  },
  {
   "cell_type": "markdown",
   "metadata": {
    "slideshow": {
     "slide_type": "slide"
    }
   },
   "source": [
    "### Efectos cinematicos"
   ]
  },
  {
   "cell_type": "markdown",
   "metadata": {
    "slideshow": {
     "slide_type": "fragment"
    }
   },
   "source": [
    "Contraccion de lorentz y dilatacion temporal.\n"
   ]
  }
 ],
 "metadata": {
  "celltoolbar": "Slideshow",
  "kernelspec": {
   "display_name": "Python 2",
   "language": "python",
   "name": "python2"
  },
  "language_info": {
   "codemirror_mode": {
    "name": "ipython",
    "version": 2
   },
   "file_extension": ".py",
   "mimetype": "text/x-python",
   "name": "python",
   "nbconvert_exporter": "python",
   "pygments_lexer": "ipython2",
   "version": "2.7.10"
  }
 },
 "nbformat": 4,
 "nbformat_minor": 0
}
