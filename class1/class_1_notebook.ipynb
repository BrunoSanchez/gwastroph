{
 "cells": [
  {
   "cell_type": "markdown",
   "metadata": {
    "slideshow": {
     "slide_type": "slide"
    }
   },
   "source": [
    "# Curso raro de GR - GW - Astrofisica\n",
    "\n",
    "Vamos a seguir el libro de *van Putten* de **Gravitational Radiation, Luminous Black Holes and Gamma-Ray Burst Supernovae**\n",
    "\n",
    "\n",
    "La idea es lograr captar una vision general de los eventos de ondas gravitacionales mas luminosos predichos en la teoria de GR.\n",
    "\n",
    "<img src='./images_1/Captura de pantalla de 2016-01-29 12-15-29.png' width=300 height=500>"
   ]
  },
  {
   "cell_type": "markdown",
   "metadata": {
    "slideshow": {
     "slide_type": "subslide"
    }
   },
   "source": [
    "## El formato del curso\n",
    "\n",
    "El curso intentaria seguir un formato de clases semanales, con unas filminas por tema o capitulo, y algunos ejercicios con codigo resueltos.\n",
    "\n",
    "Se pueden incluir:\n",
    "\n",
    "* Codigos numericos\n",
    "* Cuentas de relatividad\n",
    "* Estimaciones cosmologicas usando catalogos y surveys\n"
   ]
  },
  {
   "cell_type": "markdown",
   "metadata": {
    "slideshow": {
     "slide_type": "slide"
    }
   },
   "source": [
    "# Clase 1: Relatividad y movimiento superluminico"
   ]
  },
  {
   "cell_type": "markdown",
   "metadata": {
    "slideshow": {
     "slide_type": "fragment"
    }
   },
   "source": [
    "Las primeras ecuaciones que evidenciaban la invalidez de las transformaciones de Galileo fueron las planteadas por Maxwell para la electricidad y el magnetismo.\n",
    "En ellas se escondía la invariancia ante un conjunto nuevo de transformaciones, las transformaciones de Lorentz.\n",
    "\n",
    "Estas transformaciones son capaces de describir efectos cinemáticos como la dilatacion temporal y las contracciones de los objetos según sus movimientos relativos.\n",
    "\n",
    "El diagrama capaz de mostrar con mejor precision estos efectos es el de las lineas mundo, mostrado a continuación."
   ]
  },
  {
   "cell_type": "markdown",
   "metadata": {
    "collapsed": false,
    "slideshow": {
     "slide_type": "subslide"
    }
   },
   "source": [
    "<img src='./images_1/world_line.png' width=720 height=1200>"
   ]
  },
  {
   "cell_type": "markdown",
   "metadata": {
    "slideshow": {
     "slide_type": "subslide"
    }
   },
   "source": [
    "Para utilizar el formalismo de la relatividad especial debemos usar nociones como las de metrica y 4-vectores.\n",
    "\n",
    "\n",
    "Desde ahora en mas la signatura utilizada es \n",
    "\n",
    "$diag(\\eta_{ab}) = (-+++)$\n",
    "\n",
    "Los vectores temporales tendran norma negativa y los espaciales positiva dada esta signatura. \n",
    "\n",
    "En este marco el espacio-tiempo exhibe una estructura causal en forma de un cono de luz, que es invariante ante transformaciones de Lorentz, y por lo tanto vale para cada punto en el espacio-tiempo.\n",
    "\n",
    "Cada observador podria ser descripto como una curva temporal (en cada punto de esta curva el vector tangente es temporal, y puede asociarse con un observador material), conectada causalmente con aquellos eventos dentro del cono de luz pasado."
   ]
  },
  {
   "cell_type": "markdown",
   "metadata": {
    "slideshow": {
     "slide_type": "slide"
    }
   },
   "source": [
    "### Efectos cinematicos"
   ]
  },
  {
   "cell_type": "markdown",
   "metadata": {
    "slideshow": {
     "slide_type": "fragment"
    }
   },
   "source": [
    "* Contraccion de Lorentz\n",
    "\n",
    "Este efecto es la discrepancia entre las mediciones espaciales, o de longitudes, en diferentes marcos de referencia con velocidad relativa distinta de cero.\n",
    "Esto ocurre ya que una transformacion de lorentz "
   ]
  },
  {
   "cell_type": "code",
   "execution_count": null,
   "metadata": {
    "collapsed": true
   },
   "outputs": [],
   "source": []
  }
 ],
 "metadata": {
  "celltoolbar": "Slideshow",
  "kernelspec": {
   "display_name": "Python 2",
   "language": "python",
   "name": "python2"
  },
  "language_info": {
   "codemirror_mode": {
    "name": "ipython",
    "version": 2
   },
   "file_extension": ".py",
   "mimetype": "text/x-python",
   "name": "python",
   "nbconvert_exporter": "python",
   "pygments_lexer": "ipython2",
   "version": "2.7.10"
  }
 },
 "nbformat": 4,
 "nbformat_minor": 0
}
